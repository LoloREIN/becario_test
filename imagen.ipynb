{
 "cells": [
  {
   "cell_type": "code",
   "execution_count": 7,
   "metadata": {},
   "outputs": [
    {
     "name": "stdout",
     "output_type": "stream",
     "text": [
      "Imagen invertida guardada como inverted_image.png\n"
     ]
    }
   ],
   "source": [
    "import cv2\n",
    "import numpy as np\n",
    "\n",
    "# Cargar la imagen PNG\n",
    "image = cv2.imread('up.png')\n",
    "\n",
    "# Invertir los colores\n",
    "inverted_image = cv2.bitwise_not(image)\n",
    "\n",
    "# Guardar la imagen invertida como PNG\n",
    "cv2.imwrite('up_2.png', inverted_image)\n",
    "\n",
    "print(\"Imagen invertida guardada como inverted_image.png\")\n"
   ]
  },
  {
   "cell_type": "code",
   "execution_count": null,
   "metadata": {},
   "outputs": [],
   "source": [
    "import cv2\n",
    "import numpy as np\n",
    "\n",
    "# Load the PNG image\n",
    "image = cv2.imread('input_image.png', cv2.IMREAD_UNCHANGED)\n",
    "\n",
    "# Extract the alpha channel as mask\n",
    "mask = image[:, :, 3]\n",
    "\n",
    "# Threshold the mask to get a binary mask\n",
    "_, binary_mask = cv2.threshold(mask, 1, 255, cv2.THRESH_BINARY)\n",
    "\n",
    "# Invert the binary mask\n",
    "binary_mask_inv = cv2.bitwise_not(binary_mask)\n",
    "\n",
    "# Create a foreground with transparency\n",
    "foreground = cv2.bitwise_and(image, image, mask=binary_mask)\n",
    "\n",
    "# Create a transparent background\n",
    "background = np.zeros_like(image)\n",
    "background[:, :, 3] = 255  # Set alpha channel to fully transparent\n",
    "\n",
    "# Combine foreground and background\n",
    "result = cv2.add(foreground, background)\n",
    "\n",
    "# Save the result as PNG with transparency\n",
    "cv2.imwrite('output_image.png', result)\n",
    "\n",
    "print(\"Foreground with transparent background saved successfully as output_image.png\")\n"
   ]
  }
 ],
 "metadata": {
  "kernelspec": {
   "display_name": "Python 3",
   "language": "python",
   "name": "python3"
  },
  "language_info": {
   "codemirror_mode": {
    "name": "ipython",
    "version": 3
   },
   "file_extension": ".py",
   "mimetype": "text/x-python",
   "name": "python",
   "nbconvert_exporter": "python",
   "pygments_lexer": "ipython3",
   "version": "3.12.2"
  }
 },
 "nbformat": 4,
 "nbformat_minor": 2
}

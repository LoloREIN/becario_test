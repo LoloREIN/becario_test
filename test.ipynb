{
 "cells": [
  {
   "cell_type": "code",
   "execution_count": 19,
   "metadata": {},
   "outputs": [
    {
     "data": {
      "text/plain": [
       "True"
      ]
     },
     "execution_count": 19,
     "metadata": {},
     "output_type": "execute_result"
    }
   ],
   "source": [
    "import webbrowser\n",
    "import urllib.parse\n",
    "\n",
    "telefono = input()\n",
    "telefono = telefono.replace(\"-\",\"\")\n",
    "telefono = telefono.replace(\"+\",\"\")\n",
    "template = ''':computer:La directora de Carrera te cuenta de Ingeniería en Inteligencia de datos y Ciberseguridad: https://tinyurl.com/bdp67vwj\\n\n",
    "Por cierto, soy Lorenzo de admisiones de Ingenierías UP, veo que te gustan las ciencias computacionales, si es así quiero presentarte nuestra Ing. en Inteligencia de Datos y Ciberseguridad:computer:,:brain::lock: .\\n\n",
    "Es la evolución de carreras como el Ing. en sistemas o tecnologías de información y cuenta con certificaciones CACEI y ABET internacionales que facilitan laborar en el extranjero. En ella aprenderás a:\\n\n",
    ":computer: Desarrollar software, apps y sitios web.\\n\n",
    ":brain: Inteligencia Artificial\\n\n",
    ":gear: Machine Learning\\n\n",
    ":eyeglasses: Data science\\n\n",
    ":computer: Hackeo ético\\n\n",
    ":puzzle_piece: Encriptación\\n\n",
    ":mag: Cómputo Forense\\n\n",
    "y más...\\n\n",
    ":pencil: Regístro al examen de admisión:  https://mkt.up.edu.mx/registrate-al-examen-de-admision\\n\n",
    ":earth_americas: ¿Quieres saber más y ver el plan de estudios? ingresa a:\\n\n",
    "https://mkt.up.edu.mx/ingenieria-en-ingeligencia-de-datos-y-ciberseguridad\\n\n",
    ":newspaper: Nota: Se busca: millones de expertos en ciberseguridad. Salario: lo que pidas (CNN Tecnología) https://cnnespanol.cnn.com/2021/05/30/se-busca-millones-expertos-ciberseguridad-salario-trax/\\n\n",
    ":iphone: Agendar una videollamada para resolver todas tus dudas: https://app.hubspot.com/meetings/lcoronel\\n\n",
    "\n",
    "'''\n",
    "text = \"https://wa.me/\"+telefono+\"?text=\"+template\n",
    "\n",
    "webbrowser.open_new_tab(text)\n",
    "    "
   ]
  },
  {
   "cell_type": "code",
   "execution_count": null,
   "metadata": {},
   "outputs": [],
   "source": []
  }
 ],
 "metadata": {
  "kernelspec": {
   "display_name": "Python 3",
   "language": "python",
   "name": "python3"
  },
  "language_info": {
   "codemirror_mode": {
    "name": "ipython",
    "version": 3
   },
   "file_extension": ".py",
   "mimetype": "text/x-python",
   "name": "python",
   "nbconvert_exporter": "python",
   "pygments_lexer": "ipython3",
   "version": "3.11.7"
  }
 },
 "nbformat": 4,
 "nbformat_minor": 2
}
